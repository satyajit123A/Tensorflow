{
  "nbformat": 4,
  "nbformat_minor": 0,
  "metadata": {
    "colab": {
      "name": "Exercise4-Question.ipynb",
      "version": "0.3.2",
      "provenance": []
    },
    "kernelspec": {
      "name": "python3",
      "display_name": "Python 3"
    },
    "accelerator": "TPU"
  },
  "cells": [
    {
      "metadata": {
        "id": "UncprnB0ymAE",
        "colab_type": "text"
      },
      "cell_type": "markdown",
      "source": [
        "Below is code with a link to a happy or sad dataset which contains 80 images, 40 happy and 40 sad. \n",
        "Create a convolutional neural network that trains to 100% accuracy on these images,  which cancels training upon hitting training accuracy of >.999\n",
        "\n",
        "Hint -- it will work best with 3 convolutional layers."
      ]
    },
    {
      "metadata": {
        "id": "7Vti6p3PxmpS",
        "colab_type": "code",
        "colab": {
          "base_uri": "https://localhost:8080/",
          "height": 202
        },
        "outputId": "98b978bc-b633-47f2-e8be-9c687a88ecc7"
      },
      "cell_type": "code",
      "source": [
        "import tensorflow as tf\n",
        "import os\n",
        "import zipfile\n",
        "\n",
        "\n",
        "DESIRED_ACCURACY = 0.999\n",
        "\n",
        "!wget --no-check-certificate \\\n",
        "    \"https://storage.googleapis.com/laurencemoroney-blog.appspot.com/happy-or-sad.zip\" \\\n",
        "    -O \"/tmp/happy-or-sad.zip\"\n",
        "\n",
        "zip_ref = zipfile.ZipFile(\"/tmp/happy-or-sad.zip\", 'r')\n",
        "zip_ref.extractall(\"/tmp/h-or-s\")\n",
        "zip_ref.close()\n",
        "\n",
        "class myCallback(tf.keras.callbacks.Callback):\n",
        "  def on_epoch_end(self, epoch, logs={}):\n",
        "    if(logs.get('acc')>0.999):\n",
        "      print(\"\\nReached 99.9% accuracy so cancelling training!\")\n",
        "      self.model.stop_training = True\n",
        "\n",
        "\n",
        "\n",
        "callbacks = myCallback()"
      ],
      "execution_count": 7,
      "outputs": [
        {
          "output_type": "stream",
          "text": [
            "--2019-03-09 12:32:23--  https://storage.googleapis.com/laurencemoroney-blog.appspot.com/happy-or-sad.zip\n",
            "Resolving storage.googleapis.com (storage.googleapis.com)... 209.85.147.128, 2607:f8b0:4001:c15::80\n",
            "Connecting to storage.googleapis.com (storage.googleapis.com)|209.85.147.128|:443... connected.\n",
            "HTTP request sent, awaiting response... 200 OK\n",
            "Length: 2670333 (2.5M) [application/zip]\n",
            "Saving to: ‘/tmp/happy-or-sad.zip’\n",
            "\n",
            "\r/tmp/happy-or-sad.z   0%[                    ]       0  --.-KB/s               \r/tmp/happy-or-sad.z 100%[===================>]   2.55M  --.-KB/s    in 0.02s   \n",
            "\n",
            "2019-03-09 12:32:24 (150 MB/s) - ‘/tmp/happy-or-sad.zip’ saved [2670333/2670333]\n",
            "\n"
          ],
          "name": "stdout"
        }
      ]
    },
    {
      "metadata": {
        "id": "6DLGbXXI1j_V",
        "colab_type": "code",
        "colab": {}
      },
      "cell_type": "code",
      "source": [
        "\n",
        "\n",
        " #Directory with our training horse pictures\n",
        "train_happy_dir = os.path.join('/tmp/h-or-s/h')\n",
        "\n",
        "# Directory with our training human pictures\n",
        "train_sad_dir = os.path.join('/tmp/h-or-s/s')\n",
        "\n",
        "# Directory with our training horse pictures\n",
        "#validation_horse_dir = os.path.join('/tmp/validation-horse-or-human/validation-horses')\n",
        "\n",
        "# Directory with our training human pictures\n",
        "#validation_human_dir = os.path.join('/tmp/validation-horse-or-human/validation-humans')\n",
        "\n",
        "# This Code Block should Define and Compile the Model\n",
        "model = tf.keras.models.Sequential([\n",
        "# Your Code Here\n",
        "tf.keras.layers.Conv2D(16,(3,3),activation=\"relu\",input_shape=(150,150,3)),\n",
        "tf.keras.layers.MaxPooling2D(2,2),\n",
        "tf.keras.layers.Conv2D(32,(3,3),activation=\"relu\"),\n",
        "tf.keras.layers.MaxPooling2D(2,2),\n",
        "tf.keras.layers.Conv2D(64,(3,3),activation=\"relu\"),\n",
        "tf.keras.layers.MaxPooling2D(2,2),\n",
        "tf.keras.layers.Flatten(),\n",
        "tf.keras.layers.Dense(512,activation=\"relu\"),\n",
        "tf.keras.layers.Dense(1,activation=\"sigmoid\")\n",
        "    \n",
        "])\n",
        "\n",
        "from tensorflow.keras.optimizers import RMSprop\n",
        "\n",
        "model.compile(loss=\"binary_crossentropy\",\n",
        "             optimizer=RMSprop(lr=0.001),\n",
        "             metrics=[\"acc\"])"
      ],
      "execution_count": 0,
      "outputs": []
    },
    {
      "metadata": {
        "id": "4Ap9fUJE1vVu",
        "colab_type": "code",
        "colab": {
          "base_uri": "https://localhost:8080/",
          "height": 34
        },
        "outputId": "9bf51f62-d727-4940-bf4b-68272bde8f3f"
      },
      "cell_type": "code",
      "source": [
        "# This code block should create an instance of an ImageDataGenerator called train_datagen \n",
        "# And a train_generator by calling train_datagen.flow_from_directory\n",
        "\n",
        "from tensorflow.keras.preprocessing.image import ImageDataGenerator\n",
        "\n",
        "train_datagen = ImageDataGenerator(rescale=1/255)\n",
        "\n",
        "train_generator = train_datagen.flow_from_directory(\n",
        "        \"/tmp/h-or-s\",\n",
        "         target_size=(150,150),\n",
        "         batch_size=128,\n",
        "         class_mode=\"binary\")\n",
        "\n",
        "# Expected output: 'Found 80 images belonging to 2 classes'"
      ],
      "execution_count": 9,
      "outputs": [
        {
          "output_type": "stream",
          "text": [
            "Found 80 images belonging to 2 classes.\n"
          ],
          "name": "stdout"
        }
      ]
    },
    {
      "metadata": {
        "id": "48dLm13U1-Le",
        "colab_type": "code",
        "colab": {
          "base_uri": "https://localhost:8080/",
          "height": 487
        },
        "outputId": "a3424c48-a1f5-408d-ea80-eacb31ffd938"
      },
      "cell_type": "code",
      "source": [
        "# This code block should call model.fit_generator and train for\n",
        "# a number of epochs. \n",
        "history = model.fit_generator(\n",
        "      # Your Code Here\n",
        "      train_generator,\n",
        "      steps_per_epoch=8,\n",
        "      epochs=15,\n",
        "      verbose=1,\n",
        "      callbacks=[callbacks]\n",
        "      #validation_data=validation_generator,\n",
        "      #validation_steps=8\n",
        ")\n",
        "    \n",
        "# Expected output: \"Reached 99.9% accuracy so cancelling training!\"\""
      ],
      "execution_count": 10,
      "outputs": [
        {
          "output_type": "stream",
          "text": [
            "Epoch 1/15\n",
            "1/1 [==============================] - 2s 2s/step - loss: 0.6941 - acc: 0.5000\n",
            "Epoch 2/15\n",
            "1/1 [==============================] - 2s 2s/step - loss: 6.4109 - acc: 0.5000\n",
            "Epoch 3/15\n",
            "1/1 [==============================] - 2s 2s/step - loss: 1.9370 - acc: 0.5000\n",
            "Epoch 4/15\n",
            "1/1 [==============================] - 2s 2s/step - loss: 0.7130 - acc: 0.5000\n",
            "Epoch 5/15\n",
            "1/1 [==============================] - 2s 2s/step - loss: 0.6488 - acc: 0.5000\n",
            "Epoch 6/15\n",
            "1/1 [==============================] - 2s 2s/step - loss: 0.6035 - acc: 0.7375\n",
            "Epoch 7/15\n",
            "1/1 [==============================] - 2s 2s/step - loss: 0.5552 - acc: 0.6625\n",
            "Epoch 8/15\n",
            "1/1 [==============================] - 2s 2s/step - loss: 0.5598 - acc: 0.5000\n",
            "Epoch 9/15\n",
            "1/1 [==============================] - 2s 2s/step - loss: 0.8192 - acc: 0.5000\n",
            "Epoch 10/15\n",
            "1/1 [==============================] - 2s 2s/step - loss: 0.5635 - acc: 0.5625\n",
            "Epoch 11/15\n",
            "1/1 [==============================] - 2s 2s/step - loss: 0.4785 - acc: 0.7500\n",
            "Epoch 12/15\n",
            "1/1 [==============================] - 2s 2s/step - loss: 0.3781 - acc: 0.9125\n",
            "Epoch 13/15\n",
            "\n",
            "Reached 99.9% accuracy so cancelling training!\n",
            "1/1 [==============================] - 2s 2s/step - loss: 0.2883 - acc: 1.0000\n"
          ],
          "name": "stdout"
        }
      ]
    },
    {
      "metadata": {
        "id": "Ev4c_0PBZexK",
        "colab_type": "code",
        "colab": {}
      },
      "cell_type": "code",
      "source": [
        ""
      ],
      "execution_count": 0,
      "outputs": []
    }
  ]
}